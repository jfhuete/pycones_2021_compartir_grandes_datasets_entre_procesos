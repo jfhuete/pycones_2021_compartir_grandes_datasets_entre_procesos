{
    "cells": [
        {
            "cell_type": "code",
            "execution_count": 9,
            "source": [
                "import os\n",
                "import itertools\n",
                "\n",
                "import pandas as pd\n",
                "import numpy as np"
            ],
            "outputs": [],
            "metadata": {}
        },
        {
            "cell_type": "code",
            "execution_count": 22,
            "source": [
                "rows = 100000\n",
                "columns = 6000\n",
                "path = \"./Data\"\n",
                "filename = \"l.csv\""
            ],
            "outputs": [],
            "metadata": {}
        },
        {
            "cell_type": "code",
            "execution_count": 11,
            "source": [
                "def colnum_string(n):\n",
                "    string = \"\"\n",
                "    while n > 0:\n",
                "        n, remainder = divmod(n - 1, 26)\n",
                "        string = chr(65 + remainder) + string\n",
                "    return string\n",
                "\n",
                "def generate_headers(n):\n",
                "    headers = []\n",
                "    for i in range(n):\n",
                "      headers.append(colnum_string(i))\n",
                "\n",
                "    return headers"
            ],
            "outputs": [],
            "metadata": {}
        },
        {
            "cell_type": "code",
            "execution_count": 23,
            "source": [
                "headers = generate_headers(columns)\n",
                "df = pd.DataFrame(np.random.randint(0,100000, size=(rows, columns)), columns=headers)\n",
                "\n",
                "df.to_csv(os.path.join(path, filename))\n"
            ],
            "outputs": [],
            "metadata": {}
        }
    ],
    "metadata": {
        "orig_nbformat": 4,
        "language_info": {
            "name": "python",
            "version": "3.7.3",
            "mimetype": "text/x-python",
            "codemirror_mode": {
                "name": "ipython",
                "version": 3
            },
            "pygments_lexer": "ipython3",
            "nbconvert_exporter": "python",
            "file_extension": ".py"
        },
        "kernelspec": {
            "name": "python3",
            "display_name": "Python 3.7.3 64-bit ('pycones': venv)"
        },
        "interpreter": {
            "hash": "43b7c20e0db4c569b5cdb7c4541a7a2ec0dbd6e8a1c8f57b537dbbcf9e021810"
        }
    },
    "nbformat": 4,
    "nbformat_minor": 2
}