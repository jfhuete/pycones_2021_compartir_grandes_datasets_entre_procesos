{
    "cells": [
        {
            "cell_type": "code",
            "execution_count": 1,
            "source": [
                "CHUNK_SIZE_MB = 100"
            ],
            "outputs": [],
            "metadata": {}
        },
        {
            "cell_type": "code",
            "execution_count": 2,
            "source": [
                "from pathlib import Path\n",
                "from dotenv import load_dotenv\n",
                "import os\n",
                "import vaex"
            ],
            "outputs": [],
            "metadata": {}
        },
        {
            "cell_type": "code",
            "execution_count": 3,
            "source": [
                "file_path = f\"../../Data/s.csv\"\n",
                "df = vaex.from_csv(file_path, convert=True, chunk_size=5_000_000, copy_index=False)\n",
                "size = round(Path(file_path).stat().st_size / 1024 / 1024 / 1024, 3)"
            ],
            "outputs": [],
            "metadata": {}
        },
        {
            "cell_type": "code",
            "execution_count": 4,
            "source": [
                "load_dotenv()"
            ],
            "outputs": [
                {
                    "output_type": "execute_result",
                    "data": {
                        "text/plain": [
                            "True"
                        ]
                    },
                    "metadata": {},
                    "execution_count": 4
                }
            ],
            "metadata": {}
        },
        {
            "cell_type": "code",
            "execution_count": 5,
            "source": [
                "access_key = os.getenv(\"AWS_ACCESS_KEY_ID\")\n",
                "secret_access_key = os.getenv(\"AWS_SECRET_ACCESS_KEY\")\n",
                "region = os.getenv(\"AWS_REGION\")\n",
                "bucket_id = os.getenv(\"AWS_S3_BUCKET_ID\")"
            ],
            "outputs": [],
            "metadata": {}
        },
        {
            "cell_type": "code",
            "execution_count": 11,
            "source": [
                "size_mb = size * 1024\n",
                "n_chunks = int((size_mb // CHUNK_SIZE_MB) + 1) if (size_mb % CHUNK_SIZE_MB) != 0 else int(size_mb // CHUNK_SIZE_MB)\n",
                "chunk_size = int(df.count()) // n_chunks\n",
                "file_prefix = \"output_chunk-\"\n",
                "file_path = f\"s3://{bucket_id}/\" + \"sample.parquet\"\n"
            ],
            "outputs": [],
            "metadata": {}
        },
        {
            "cell_type": "code",
            "execution_count": 12,
            "source": [
                "df.export_many(\n",
                "    file_path,\n",
                "    chunk_size=chunk_size,\n",
                "    fs_options={\n",
                "        \"access_key\": access_key,\n",
                "        \"secret_key\": secret_access_key,\n",
                "        \"region\": region\n",
                "    }\n",
                ")"
            ],
            "outputs": [],
            "metadata": {}
        },
        {
            "cell_type": "code",
            "execution_count": 25,
            "source": [
                "df_open = vaex.open_many(\"s3://jfhuete-pycones2021/sample-**.parquet\")"
            ],
            "outputs": [],
            "metadata": {}
        },
        {
            "cell_type": "code",
            "execution_count": 26,
            "source": [
                "df_open.count()"
            ],
            "outputs": [
                {
                    "output_type": "execute_result",
                    "data": {
                        "text/plain": [
                            "array(100000)"
                        ]
                    },
                    "metadata": {},
                    "execution_count": 26
                }
            ],
            "metadata": {}
        }
    ],
    "metadata": {
        "orig_nbformat": 4,
        "language_info": {
            "name": "python",
            "version": "3.7.3",
            "mimetype": "text/x-python",
            "codemirror_mode": {
                "name": "ipython",
                "version": 3
            },
            "pygments_lexer": "ipython3",
            "nbconvert_exporter": "python",
            "file_extension": ".py"
        },
        "kernelspec": {
            "name": "python3",
            "display_name": "Python 3.7.3 64-bit ('pycones': venv)"
        },
        "interpreter": {
            "hash": "43b7c20e0db4c569b5cdb7c4541a7a2ec0dbd6e8a1c8f57b537dbbcf9e021810"
        }
    },
    "nbformat": 4,
    "nbformat_minor": 2
}